{
 "cells": [
  {
   "cell_type": "code",
   "execution_count": 1,
   "id": "c12f4c1b",
   "metadata": {
    "_cell_guid": "b1076dfc-b9ad-4769-8c92-a6c4dae69d19",
    "_uuid": "8f2839f25d086af736a60e9eeb907d3b93b6e0e5",
    "execution": {
     "iopub.execute_input": "2023-11-07T20:30:00.152897Z",
     "iopub.status.busy": "2023-11-07T20:30:00.151599Z",
     "iopub.status.idle": "2023-11-07T20:30:02.095633Z",
     "shell.execute_reply": "2023-11-07T20:30:02.094141Z"
    },
    "papermill": {
     "duration": 1.953575,
     "end_time": "2023-11-07T20:30:02.098689",
     "exception": false,
     "start_time": "2023-11-07T20:30:00.145114",
     "status": "completed"
    },
    "tags": []
   },
   "outputs": [],
   "source": [
    "import pandas as pd\n",
    "import matplotlib.pyplot as plt\n",
    "from sklearn.linear_model import LinearRegression\n",
    "from sklearn.model_selection import train_test_split"
   ]
  },
  {
   "cell_type": "code",
   "execution_count": 2,
   "id": "18fce95e",
   "metadata": {
    "execution": {
     "iopub.execute_input": "2023-11-07T20:30:02.113163Z",
     "iopub.status.busy": "2023-11-07T20:30:02.112170Z",
     "iopub.status.idle": "2023-11-07T20:30:02.160593Z",
     "shell.execute_reply": "2023-11-07T20:30:02.159710Z"
    },
    "papermill": {
     "duration": 0.05778,
     "end_time": "2023-11-07T20:30:02.163129",
     "exception": false,
     "start_time": "2023-11-07T20:30:02.105349",
     "status": "completed"
    },
    "tags": []
   },
   "outputs": [
    {
     "data": {
      "text/html": [
       "<div>\n",
       "<style scoped>\n",
       "    .dataframe tbody tr th:only-of-type {\n",
       "        vertical-align: middle;\n",
       "    }\n",
       "\n",
       "    .dataframe tbody tr th {\n",
       "        vertical-align: top;\n",
       "    }\n",
       "\n",
       "    .dataframe thead th {\n",
       "        text-align: right;\n",
       "    }\n",
       "</style>\n",
       "<table border=\"1\" class=\"dataframe\">\n",
       "  <thead>\n",
       "    <tr style=\"text-align: right;\">\n",
       "      <th></th>\n",
       "      <th>PetalLengthCm</th>\n",
       "      <th>PetalWidthCm</th>\n",
       "      <th>Species</th>\n",
       "    </tr>\n",
       "  </thead>\n",
       "  <tbody>\n",
       "    <tr>\n",
       "      <th>0</th>\n",
       "      <td>1.4</td>\n",
       "      <td>0.2</td>\n",
       "      <td>Iris-setosa</td>\n",
       "    </tr>\n",
       "    <tr>\n",
       "      <th>1</th>\n",
       "      <td>1.4</td>\n",
       "      <td>0.2</td>\n",
       "      <td>Iris-setosa</td>\n",
       "    </tr>\n",
       "    <tr>\n",
       "      <th>2</th>\n",
       "      <td>1.3</td>\n",
       "      <td>0.2</td>\n",
       "      <td>Iris-setosa</td>\n",
       "    </tr>\n",
       "    <tr>\n",
       "      <th>3</th>\n",
       "      <td>1.5</td>\n",
       "      <td>0.2</td>\n",
       "      <td>Iris-setosa</td>\n",
       "    </tr>\n",
       "    <tr>\n",
       "      <th>4</th>\n",
       "      <td>1.4</td>\n",
       "      <td>0.2</td>\n",
       "      <td>Iris-setosa</td>\n",
       "    </tr>\n",
       "    <tr>\n",
       "      <th>5</th>\n",
       "      <td>1.7</td>\n",
       "      <td>0.4</td>\n",
       "      <td>Iris-setosa</td>\n",
       "    </tr>\n",
       "    <tr>\n",
       "      <th>6</th>\n",
       "      <td>1.4</td>\n",
       "      <td>0.3</td>\n",
       "      <td>Iris-setosa</td>\n",
       "    </tr>\n",
       "    <tr>\n",
       "      <th>7</th>\n",
       "      <td>1.5</td>\n",
       "      <td>0.2</td>\n",
       "      <td>Iris-setosa</td>\n",
       "    </tr>\n",
       "    <tr>\n",
       "      <th>8</th>\n",
       "      <td>1.4</td>\n",
       "      <td>0.2</td>\n",
       "      <td>Iris-setosa</td>\n",
       "    </tr>\n",
       "    <tr>\n",
       "      <th>9</th>\n",
       "      <td>1.5</td>\n",
       "      <td>0.1</td>\n",
       "      <td>Iris-setosa</td>\n",
       "    </tr>\n",
       "  </tbody>\n",
       "</table>\n",
       "</div>"
      ],
      "text/plain": [
       "   PetalLengthCm  PetalWidthCm      Species\n",
       "0            1.4           0.2  Iris-setosa\n",
       "1            1.4           0.2  Iris-setosa\n",
       "2            1.3           0.2  Iris-setosa\n",
       "3            1.5           0.2  Iris-setosa\n",
       "4            1.4           0.2  Iris-setosa\n",
       "5            1.7           0.4  Iris-setosa\n",
       "6            1.4           0.3  Iris-setosa\n",
       "7            1.5           0.2  Iris-setosa\n",
       "8            1.4           0.2  Iris-setosa\n",
       "9            1.5           0.1  Iris-setosa"
      ]
     },
     "execution_count": 2,
     "metadata": {},
     "output_type": "execute_result"
    }
   ],
   "source": [
    "dataset= pd.read_csv(\"/kaggle/input/irisdataset/iris_data (1) - iris_data (1).csv\")\n",
    "dataset.head(n=10)"
   ]
  },
  {
   "cell_type": "code",
   "execution_count": 3,
   "id": "c7a8d8c4",
   "metadata": {
    "execution": {
     "iopub.execute_input": "2023-11-07T20:30:02.174415Z",
     "iopub.status.busy": "2023-11-07T20:30:02.173696Z",
     "iopub.status.idle": "2023-11-07T20:30:02.203995Z",
     "shell.execute_reply": "2023-11-07T20:30:02.202660Z"
    },
    "papermill": {
     "duration": 0.039341,
     "end_time": "2023-11-07T20:30:02.207056",
     "exception": false,
     "start_time": "2023-11-07T20:30:02.167715",
     "status": "completed"
    },
    "tags": []
   },
   "outputs": [
    {
     "data": {
      "text/html": [
       "<div>\n",
       "<style scoped>\n",
       "    .dataframe tbody tr th:only-of-type {\n",
       "        vertical-align: middle;\n",
       "    }\n",
       "\n",
       "    .dataframe tbody tr th {\n",
       "        vertical-align: top;\n",
       "    }\n",
       "\n",
       "    .dataframe thead th {\n",
       "        text-align: right;\n",
       "    }\n",
       "</style>\n",
       "<table border=\"1\" class=\"dataframe\">\n",
       "  <thead>\n",
       "    <tr style=\"text-align: right;\">\n",
       "      <th></th>\n",
       "      <th>PetalLengthCm</th>\n",
       "      <th>PetalWidthCm</th>\n",
       "      <th>Species</th>\n",
       "    </tr>\n",
       "  </thead>\n",
       "  <tbody>\n",
       "    <tr>\n",
       "      <th>0</th>\n",
       "      <td>1.4</td>\n",
       "      <td>0.2</td>\n",
       "      <td>1</td>\n",
       "    </tr>\n",
       "    <tr>\n",
       "      <th>1</th>\n",
       "      <td>1.4</td>\n",
       "      <td>0.2</td>\n",
       "      <td>1</td>\n",
       "    </tr>\n",
       "    <tr>\n",
       "      <th>2</th>\n",
       "      <td>1.3</td>\n",
       "      <td>0.2</td>\n",
       "      <td>1</td>\n",
       "    </tr>\n",
       "    <tr>\n",
       "      <th>3</th>\n",
       "      <td>1.5</td>\n",
       "      <td>0.2</td>\n",
       "      <td>1</td>\n",
       "    </tr>\n",
       "    <tr>\n",
       "      <th>4</th>\n",
       "      <td>1.4</td>\n",
       "      <td>0.2</td>\n",
       "      <td>1</td>\n",
       "    </tr>\n",
       "  </tbody>\n",
       "</table>\n",
       "</div>"
      ],
      "text/plain": [
       "   PetalLengthCm  PetalWidthCm Species\n",
       "0            1.4           0.2       1\n",
       "1            1.4           0.2       1\n",
       "2            1.3           0.2       1\n",
       "3            1.5           0.2       1\n",
       "4            1.4           0.2       1"
      ]
     },
     "execution_count": 3,
     "metadata": {},
     "output_type": "execute_result"
    }
   ],
   "source": [
    "for x in range(len(dataset)):\n",
    "    if dataset.iloc[x, 2] == \"Iris-setosa\":\n",
    "        dataset.iloc[x, 2] = 1 \n",
    "    else: \n",
    "        dataset.iloc[x, 2] = 0\n",
    "        \n",
    "dataset.head()"
   ]
  },
  {
   "cell_type": "code",
   "execution_count": 4,
   "id": "58c495da",
   "metadata": {
    "execution": {
     "iopub.execute_input": "2023-11-07T20:30:02.218824Z",
     "iopub.status.busy": "2023-11-07T20:30:02.218391Z",
     "iopub.status.idle": "2023-11-07T20:30:02.742262Z",
     "shell.execute_reply": "2023-11-07T20:30:02.739702Z"
    },
    "papermill": {
     "duration": 0.533076,
     "end_time": "2023-11-07T20:30:02.745120",
     "exception": false,
     "start_time": "2023-11-07T20:30:02.212044",
     "status": "completed"
    },
    "tags": []
   },
   "outputs": [
    {
     "data": {
      "image/png": "[encoded data removed]",
      "text/plain": [
       "<Figure size 640x480 with 2 Axes>"
      ]
     },
     "metadata": {},
     "output_type": "display_data"
    }
   ],
   "source": [
    "plt.scatter(dataset[\"PetalLengthCm\"], dataset[\"PetalWidthCm\"], c=dataset[\"Species\"])\n",
    "plt.xlabel(\"Length\")\n",
    "plt.ylabel(\"Width\")\n",
    "\n",
    "cbar= plt.colorbar()"
   ]
  },
  {
   "cell_type": "code",
   "execution_count": 5,
   "id": "47aecc04",
   "metadata": {
    "execution": {
     "iopub.execute_input": "2023-11-07T20:30:02.757702Z",
     "iopub.status.busy": "2023-11-07T20:30:02.757255Z",
     "iopub.status.idle": "2023-11-07T20:30:02.770483Z",
     "shell.execute_reply": "2023-11-07T20:30:02.769219Z"
    },
    "papermill": {
     "duration": 0.022932,
     "end_time": "2023-11-07T20:30:02.773432",
     "exception": false,
     "start_time": "2023-11-07T20:30:02.750500",
     "status": "completed"
    },
    "tags": []
   },
   "outputs": [],
   "source": [
    "features = dataset[[\"PetalLengthCm\", \"PetalWidthCm\"]]\n",
    "labels = dataset[[\"Species\"]]"
   ]
  },
  {
   "cell_type": "code",
   "execution_count": 6,
   "id": "ba74cf50",
   "metadata": {
    "execution": {
     "iopub.execute_input": "2023-11-07T20:30:02.785777Z",
     "iopub.status.busy": "2023-11-07T20:30:02.785331Z",
     "iopub.status.idle": "2023-11-07T20:30:02.792480Z",
     "shell.execute_reply": "2023-11-07T20:30:02.791692Z"
    },
    "papermill": {
     "duration": 0.015702,
     "end_time": "2023-11-07T20:30:02.794597",
     "exception": false,
     "start_time": "2023-11-07T20:30:02.778895",
     "status": "completed"
    },
    "tags": []
   },
   "outputs": [],
   "source": [
    "features_train, features_test, labels_train, labels_test = train_test_split (features, labels, train_size = 0.8, test_size = 0.2, random_state = 42)\n"
   ]
  },
  {
   "cell_type": "code",
   "execution_count": 7,
   "id": "89c96139",
   "metadata": {
    "execution": {
     "iopub.execute_input": "2023-11-07T20:30:02.807243Z",
     "iopub.status.busy": "2023-11-07T20:30:02.806283Z",
     "iopub.status.idle": "2023-11-07T20:30:02.849820Z",
     "shell.execute_reply": "2023-11-07T20:30:02.848677Z"
    },
    "papermill": {
     "duration": 0.052456,
     "end_time": "2023-11-07T20:30:02.852325",
     "exception": false,
     "start_time": "2023-11-07T20:30:02.799869",
     "status": "completed"
    },
    "tags": []
   },
   "outputs": [
    {
     "data": {
      "text/html": [
       "<style>#sk-container-id-1 {color: black;background-color: white;}#sk-container-id-1 pre{padding: 0;}#sk-container-id-1 div.sk-toggleable {background-color: white;}#sk-container-id-1 label.sk-toggleable__label {cursor: pointer;display: block;width: 100%;margin-bottom: 0;padding: 0.3em;box-sizing: border-box;text-align: center;}#sk-container-id-1 label.sk-toggleable__label-arrow:before {content: \"▸\";float: left;margin-right: 0.25em;color: #696969;}#sk-container-id-1 label.sk-toggleable__label-arrow:hover:before {color: black;}#sk-container-id-1 div.sk-estimator:hover label.sk-toggleable__label-arrow:before {color: black;}#sk-container-id-1 div.sk-toggleable__content {max-height: 0;max-width: 0;overflow: hidden;text-align: left;background-color: #f0f8ff;}#sk-container-id-1 div.sk-toggleable__content pre {margin: 0.2em;color: black;border-radius: 0.25em;background-color: #f0f8ff;}#sk-container-id-1 input.sk-toggleable__control:checked~div.sk-toggleable__content {max-height: 200px;max-width: 100%;overflow: auto;}#sk-container-id-1 input.sk-toggleable__control:checked~label.sk-toggleable__label-arrow:before {content: \"▾\";}#sk-container-id-1 div.sk-estimator input.sk-toggleable__control:checked~label.sk-toggleable__label {background-color: #d4ebff;}#sk-container-id-1 div.sk-label input.sk-toggleable__control:checked~label.sk-toggleable__label {background-color: #d4ebff;}#sk-container-id-1 input.sk-hidden--visually {border: 0;clip: rect(1px 1px 1px 1px);clip: rect(1px, 1px, 1px, 1px);height: 1px;margin: -1px;overflow: hidden;padding: 0;position: absolute;width: 1px;}#sk-container-id-1 div.sk-estimator {font-family: monospace;background-color: #f0f8ff;border: 1px dotted black;border-radius: 0.25em;box-sizing: border-box;margin-bottom: 0.5em;}#sk-container-id-1 div.sk-estimator:hover {background-color: #d4ebff;}#sk-container-id-1 div.sk-parallel-item::after {content: \"\";width: 100%;border-bottom: 1px solid gray;flex-grow: 1;}#sk-container-id-1 div.sk-label:hover label.sk-toggleable__label {background-color: #d4ebff;}#sk-container-id-1 div.sk-serial::before {content: \"\";position: absolute;border-left: 1px solid gray;box-sizing: border-box;top: 0;bottom: 0;left: 50%;z-index: 0;}#sk-container-id-1 div.sk-serial {display: flex;flex-direction: column;align-items: center;background-color: white;padding-right: 0.2em;padding-left: 0.2em;position: relative;}#sk-container-id-1 div.sk-item {position: relative;z-index: 1;}#sk-container-id-1 div.sk-parallel {display: flex;align-items: stretch;justify-content: center;background-color: white;position: relative;}#sk-container-id-1 div.sk-item::before, #sk-container-id-1 div.sk-parallel-item::before {content: \"\";position: absolute;border-left: 1px solid gray;box-sizing: border-box;top: 0;bottom: 0;left: 50%;z-index: -1;}#sk-container-id-1 div.sk-parallel-item {display: flex;flex-direction: column;z-index: 1;position: relative;background-color: white;}#sk-container-id-1 div.sk-parallel-item:first-child::after {align-self: flex-end;width: 50%;}#sk-container-id-1 div.sk-parallel-item:last-child::after {align-self: flex-start;width: 50%;}#sk-container-id-1 div.sk-parallel-item:only-child::after {width: 0;}#sk-container-id-1 div.sk-dashed-wrapped {border: 1px dashed gray;margin: 0 0.4em 0.5em 0.4em;box-sizing: border-box;padding-bottom: 0.4em;background-color: white;}#sk-container-id-1 div.sk-label label {font-family: monospace;font-weight: bold;display: inline-block;line-height: 1.2em;}#sk-container-id-1 div.sk-label-container {text-align: center;}#sk-container-id-1 div.sk-container {/* jupyter's `normalize.less` sets `[hidden] { display: none; }` but bootstrap.min.css set `[hidden] { display: none !important; }` so we also need the `!important` here to be able to override the default hidden behavior on the sphinx rendered scikit-learn.org. See: https://github.com/scikit-learn/scikit-learn/issues/21755 */display: inline-block !important;position: relative;}#sk-container-id-1 div.sk-text-repr-fallback {display: none;}</style><div id=\"sk-container-id-1\" class=\"sk-top-container\"><div class=\"sk-text-repr-fallback\"><pre>LinearRegression()</pre><b>In a Jupyter environment, please rerun this cell to show the HTML representation or trust the notebook. <br />On GitHub, the HTML representation is unable to render, please try loading this page with nbviewer.org.</b></div><div class=\"sk-container\" hidden><div class=\"sk-item\"><div class=\"sk-estimator sk-toggleable\"><input class=\"sk-toggleable__control sk-hidden--visually\" id=\"sk-estimator-id-1\" type=\"checkbox\" checked><label for=\"sk-estimator-id-1\" class=\"sk-toggleable__label sk-toggleable__label-arrow\">LinearRegression</label><div class=\"sk-toggleable__content\"><pre>LinearRegression()</pre></div></div></div></div></div>"
      ],
      "text/plain": [
       "LinearRegression()"
      ]
     },
     "execution_count": 7,
     "metadata": {},
     "output_type": "execute_result"
    }
   ],
   "source": [
    "model = LinearRegression()\n",
    "model.fit(features_train, labels_train)"
   ]
  },
  {
   "cell_type": "code",
   "execution_count": 8,
   "id": "da243550",
   "metadata": {
    "execution": {
     "iopub.execute_input": "2023-11-07T20:30:02.865550Z",
     "iopub.status.busy": "2023-11-07T20:30:02.864830Z",
     "iopub.status.idle": "2023-11-07T20:30:02.872054Z",
     "shell.execute_reply": "2023-11-07T20:30:02.871077Z"
    },
    "papermill": {
     "duration": 0.016732,
     "end_time": "2023-11-07T20:30:02.874526",
     "exception": false,
     "start_time": "2023-11-07T20:30:02.857794",
     "status": "completed"
    },
    "tags": []
   },
   "outputs": [],
   "source": [
    "predictions = model.predict(features_test)\n"
   ]
  },
  {
   "cell_type": "code",
   "execution_count": 9,
   "id": "e35f100a",
   "metadata": {
    "execution": {
     "iopub.execute_input": "2023-11-07T20:30:02.888863Z",
     "iopub.status.busy": "2023-11-07T20:30:02.888445Z",
     "iopub.status.idle": "2023-11-07T20:30:03.195267Z",
     "shell.execute_reply": "2023-11-07T20:30:03.194010Z"
    },
    "papermill": {
     "duration": 0.317819,
     "end_time": "2023-11-07T20:30:03.197923",
     "exception": false,
     "start_time": "2023-11-07T20:30:02.880104",
     "status": "completed"
    },
    "tags": []
   },
   "outputs": [
    {
     "data": {
      "text/plain": [
       "Text(0, 0.5, 'Predicted Location')"
      ]
     },
     "execution_count": 9,
     "metadata": {},
     "output_type": "execute_result"
    },
    {
     "data": {
      "image/png": "[encoded data removed]",
      "text/plain": [
       "<Figure size 640x480 with 1 Axes>"
      ]
     },
     "metadata": {},
     "output_type": "display_data"
    }
   ],
   "source": [
    "plt.scatter(labels_test,predictions) \n",
    "\n",
    "plt.xlabel(\"Actual Location\")\n",
    "plt.ylabel(\"Predicted Location\")"
   ]
  },
  {
   "cell_type": "code",
   "execution_count": 10,
   "id": "0a25877c",
   "metadata": {
    "execution": {
     "iopub.execute_input": "2023-11-07T20:30:03.212557Z",
     "iopub.status.busy": "2023-11-07T20:30:03.212176Z",
     "iopub.status.idle": "2023-11-07T20:30:03.221959Z",
     "shell.execute_reply": "2023-11-07T20:30:03.220780Z"
    },
    "papermill": {
     "duration": 0.020159,
     "end_time": "2023-11-07T20:30:03.224750",
     "exception": false,
     "start_time": "2023-11-07T20:30:03.204591",
     "status": "completed"
    },
    "tags": []
   },
   "outputs": [
    {
     "name": "stdout",
     "output_type": "stream",
     "text": [
      "0.9659100563247287\n"
     ]
    }
   ],
   "source": [
    "print(model.score(features_test, labels_test))"
   ]
  }
 ],
 "metadata": {
  "kernelspec": {
   "display_name": "Python 3",
   "language": "python",
   "name": "python3"
  },
  "language_info": {
   "codemirror_mode": {
    "name": "ipython",
    "version": 3
   },
   "file_extension": ".py",
   "mimetype": "text/x-python",
   "name": "python",
   "nbconvert_exporter": "python",
   "pygments_lexer": "ipython3",
   "version": "3.10.12"
  },
  "papermill": {
   "default_parameters": {},
   "duration": 7.363194,
   "end_time": "2023-11-07T20:30:03.852883",
   "environment_variables": {},
   "exception": null,
   "input_path": "__notebook__.ipynb",
   "output_path": "__notebook__.ipynb",
   "parameters": {},
   "start_time": "2023-11-07T20:29:56.489689",
   "version": "2.4.0"
  }
 },
 "nbformat": 4,
 "nbformat_minor": 5
}
