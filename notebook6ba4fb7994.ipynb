{
 "cells": [
  {
   "cell_type": "code",
   "execution_count": 1,
   "id": "36610344",
   "metadata": {
    "_cell_guid": "b1076dfc-b9ad-4769-8c92-a6c4dae69d19",
    "_uuid": "8f2839f25d086af736a60e9eeb907d3b93b6e0e5",
    "execution": {
     "iopub.execute_input": "2023-11-01T00:42:06.468255Z",
     "iopub.status.busy": "2023-11-01T00:42:06.467856Z",
     "iopub.status.idle": "2023-11-01T00:42:08.248071Z",
     "shell.execute_reply": "2023-11-01T00:42:08.247040Z"
    },
    "papermill": {
     "duration": 1.789324,
     "end_time": "2023-11-01T00:42:08.250640",
     "exception": false,
     "start_time": "2023-11-01T00:42:06.461316",
     "status": "completed"
    },
    "tags": []
   },
   "outputs": [],
   "source": [
    "import pandas as pd\n",
    "import matplotlib.pyplot as plt \n",
    "\n",
    "from sklearn.linear_model import LinearRegression\n",
    "from sklearn.model_selection import train_test_split"
   ]
  },
  {
   "cell_type": "code",
   "execution_count": null,
   "id": "3a32f53a",
   "metadata": {
    "papermill": {
     "duration": 0.00432,
     "end_time": "2023-11-01T00:42:08.261761",
     "exception": false,
     "start_time": "2023-11-01T00:42:08.257441",
     "status": "completed"
    },
    "tags": []
   },
   "outputs": [],
   "source": []
  },
  {
   "cell_type": "code",
   "execution_count": 2,
   "id": "0b5d78ba",
   "metadata": {
    "execution": {
     "iopub.execute_input": "2023-11-01T00:42:08.272719Z",
     "iopub.status.busy": "2023-11-01T00:42:08.272077Z",
     "iopub.status.idle": "2023-11-01T00:42:08.343945Z",
     "shell.execute_reply": "2023-11-01T00:42:08.342799Z"
    },
    "papermill": {
     "duration": 0.080627,
     "end_time": "2023-11-01T00:42:08.346915",
     "exception": false,
     "start_time": "2023-11-01T00:42:08.266288",
     "status": "completed"
    },
    "tags": []
   },
   "outputs": [
    {
     "data": {
      "text/html": [
       "<div>\n",
       "<style scoped>\n",
       "    .dataframe tbody tr th:only-of-type {\n",
       "        vertical-align: middle;\n",
       "    }\n",
       "\n",
       "    .dataframe tbody tr th {\n",
       "        vertical-align: top;\n",
       "    }\n",
       "\n",
       "    .dataframe thead th {\n",
       "        text-align: right;\n",
       "    }\n",
       "</style>\n",
       "<table border=\"1\" class=\"dataframe\">\n",
       "  <thead>\n",
       "    <tr style=\"text-align: right;\">\n",
       "      <th></th>\n",
       "      <th>Square Feet</th>\n",
       "      <th>House Prices</th>\n",
       "      <th>Location</th>\n",
       "    </tr>\n",
       "  </thead>\n",
       "  <tbody>\n",
       "    <tr>\n",
       "      <th>0</th>\n",
       "      <td>1732</td>\n",
       "      <td>1604395</td>\n",
       "      <td>Ontario</td>\n",
       "    </tr>\n",
       "    <tr>\n",
       "      <th>1</th>\n",
       "      <td>1796</td>\n",
       "      <td>1928762</td>\n",
       "      <td>Ontario</td>\n",
       "    </tr>\n",
       "    <tr>\n",
       "      <th>2</th>\n",
       "      <td>2994</td>\n",
       "      <td>3355920</td>\n",
       "      <td>Ontario</td>\n",
       "    </tr>\n",
       "    <tr>\n",
       "      <th>3</th>\n",
       "      <td>2183</td>\n",
       "      <td>2617532</td>\n",
       "      <td>Ontario</td>\n",
       "    </tr>\n",
       "    <tr>\n",
       "      <th>4</th>\n",
       "      <td>1566</td>\n",
       "      <td>1952100</td>\n",
       "      <td>Ontario</td>\n",
       "    </tr>\n",
       "    <tr>\n",
       "      <th>5</th>\n",
       "      <td>1618</td>\n",
       "      <td>1446051</td>\n",
       "      <td>Ontario</td>\n",
       "    </tr>\n",
       "    <tr>\n",
       "      <th>6</th>\n",
       "      <td>2807</td>\n",
       "      <td>2595134</td>\n",
       "      <td>Ontario</td>\n",
       "    </tr>\n",
       "    <tr>\n",
       "      <th>7</th>\n",
       "      <td>2962</td>\n",
       "      <td>2954302</td>\n",
       "      <td>Ontario</td>\n",
       "    </tr>\n",
       "    <tr>\n",
       "      <th>8</th>\n",
       "      <td>2419</td>\n",
       "      <td>2517238</td>\n",
       "      <td>Ontario</td>\n",
       "    </tr>\n",
       "    <tr>\n",
       "      <th>9</th>\n",
       "      <td>2021</td>\n",
       "      <td>2120163</td>\n",
       "      <td>Ontario</td>\n",
       "    </tr>\n",
       "  </tbody>\n",
       "</table>\n",
       "</div>"
      ],
      "text/plain": [
       "   Square Feet  House Prices Location\n",
       "0         1732       1604395  Ontario\n",
       "1         1796       1928762  Ontario\n",
       "2         2994       3355920  Ontario\n",
       "3         2183       2617532  Ontario\n",
       "4         1566       1952100  Ontario\n",
       "5         1618       1446051  Ontario\n",
       "6         2807       2595134  Ontario\n",
       "7         2962       2954302  Ontario\n",
       "8         2419       2517238  Ontario\n",
       "9         2021       2120163  Ontario"
      ]
     },
     "execution_count": 2,
     "metadata": {},
     "output_type": "execute_result"
    }
   ],
   "source": [
    "dataframe = pd.read_csv(\"/kaggle/input/houses/houses - houses.csv\")\n",
    "dataframe.head(n=10)"
   ]
  },
  {
   "cell_type": "code",
   "execution_count": 3,
   "id": "eb2dea6c",
   "metadata": {
    "execution": {
     "iopub.execute_input": "2023-11-01T00:42:08.358699Z",
     "iopub.status.busy": "2023-11-01T00:42:08.358261Z",
     "iopub.status.idle": "2023-11-01T00:42:08.362715Z",
     "shell.execute_reply": "2023-11-01T00:42:08.361840Z"
    },
    "papermill": {
     "duration": 0.012825,
     "end_time": "2023-11-01T00:42:08.364823",
     "exception": false,
     "start_time": "2023-11-01T00:42:08.351998",
     "status": "completed"
    },
    "tags": []
   },
   "outputs": [],
   "source": [
    "# for x in range(len(dataframe)):\n",
    "#     if dataframe.iloc[x, 2] == \"Ontario\":\n",
    "#         dataframe.iloc[x, 2] = 1 \n",
    "#     else: \n",
    "#         dataframe.iloc[x, 2] = 0\n",
    "        \n",
    "#         dataframe.head() "
   ]
  },
  {
   "cell_type": "code",
   "execution_count": 4,
   "id": "58a2268d",
   "metadata": {
    "execution": {
     "iopub.execute_input": "2023-11-01T00:42:08.376238Z",
     "iopub.status.busy": "2023-11-01T00:42:08.375647Z",
     "iopub.status.idle": "2023-11-01T00:42:08.386864Z",
     "shell.execute_reply": "2023-11-01T00:42:08.385804Z"
    },
    "papermill": {
     "duration": 0.019438,
     "end_time": "2023-11-01T00:42:08.389171",
     "exception": false,
     "start_time": "2023-11-01T00:42:08.369733",
     "status": "completed"
    },
    "tags": []
   },
   "outputs": [
    {
     "data": {
      "text/html": [
       "<div>\n",
       "<style scoped>\n",
       "    .dataframe tbody tr th:only-of-type {\n",
       "        vertical-align: middle;\n",
       "    }\n",
       "\n",
       "    .dataframe tbody tr th {\n",
       "        vertical-align: top;\n",
       "    }\n",
       "\n",
       "    .dataframe thead th {\n",
       "        text-align: right;\n",
       "    }\n",
       "</style>\n",
       "<table border=\"1\" class=\"dataframe\">\n",
       "  <thead>\n",
       "    <tr style=\"text-align: right;\">\n",
       "      <th></th>\n",
       "      <th>Square Feet</th>\n",
       "      <th>House Prices</th>\n",
       "      <th>Location</th>\n",
       "    </tr>\n",
       "  </thead>\n",
       "  <tbody>\n",
       "    <tr>\n",
       "      <th>0</th>\n",
       "      <td>1732</td>\n",
       "      <td>1604395</td>\n",
       "      <td>1</td>\n",
       "    </tr>\n",
       "    <tr>\n",
       "      <th>1</th>\n",
       "      <td>1796</td>\n",
       "      <td>1928762</td>\n",
       "      <td>1</td>\n",
       "    </tr>\n",
       "    <tr>\n",
       "      <th>2</th>\n",
       "      <td>2994</td>\n",
       "      <td>3355920</td>\n",
       "      <td>1</td>\n",
       "    </tr>\n",
       "    <tr>\n",
       "      <th>3</th>\n",
       "      <td>2183</td>\n",
       "      <td>2617532</td>\n",
       "      <td>1</td>\n",
       "    </tr>\n",
       "    <tr>\n",
       "      <th>4</th>\n",
       "      <td>1566</td>\n",
       "      <td>1952100</td>\n",
       "      <td>1</td>\n",
       "    </tr>\n",
       "  </tbody>\n",
       "</table>\n",
       "</div>"
      ],
      "text/plain": [
       "   Square Feet  House Prices  Location\n",
       "0         1732       1604395         1\n",
       "1         1796       1928762         1\n",
       "2         2994       3355920         1\n",
       "3         2183       2617532         1\n",
       "4         1566       1952100         1"
      ]
     },
     "execution_count": 4,
     "metadata": {},
     "output_type": "execute_result"
    }
   ],
   "source": [
    " dataframe[\"Location\"] = dataframe[\"Location\"].apply(lambda x:1 if x == \"Ontario\" else 0)\n",
    "\n",
    " dataframe.head()"
   ]
  },
  {
   "cell_type": "code",
   "execution_count": 5,
   "id": "ab5e5052",
   "metadata": {
    "execution": {
     "iopub.execute_input": "2023-11-01T00:42:08.400737Z",
     "iopub.status.busy": "2023-11-01T00:42:08.400374Z",
     "iopub.status.idle": "2023-11-01T00:42:08.915077Z",
     "shell.execute_reply": "2023-11-01T00:42:08.913954Z"
    },
    "papermill": {
     "duration": 0.523505,
     "end_time": "2023-11-01T00:42:08.917753",
     "exception": false,
     "start_time": "2023-11-01T00:42:08.394248",
     "status": "completed"
    },
    "tags": []
   },
   "outputs": [
    {
     "data": {
      "image/png": "[encoded data removed]",
      "text/plain": [
       "<Figure size 640x480 with 2 Axes>"
      ]
     },
     "metadata": {},
     "output_type": "display_data"
    }
   ],
   "source": [
    "plt.scatter(dataframe[\"Square Feet\"], dataframe[\"House Prices\"], c=dataframe[\"Location\"], cmap = \"tab20c\")\n",
    "plt.xlabel(\"Square Feet\")\n",
    "plt.ylabel(\"House Prices\")\n",
    "\n",
    "cbar = plt.colorbar()"
   ]
  },
  {
   "cell_type": "code",
   "execution_count": 6,
   "id": "e7d7c4d7",
   "metadata": {
    "execution": {
     "iopub.execute_input": "2023-11-01T00:42:08.931246Z",
     "iopub.status.busy": "2023-11-01T00:42:08.930841Z",
     "iopub.status.idle": "2023-11-01T00:42:08.944058Z",
     "shell.execute_reply": "2023-11-01T00:42:08.943104Z"
    },
    "papermill": {
     "duration": 0.022752,
     "end_time": "2023-11-01T00:42:08.946498",
     "exception": false,
     "start_time": "2023-11-01T00:42:08.923746",
     "status": "completed"
    },
    "tags": []
   },
   "outputs": [],
   "source": [
    "features = dataframe[[\"Square Feet\", \"House Prices\"]]\n",
    "labels = dataframe[[\"Location\"]]"
   ]
  },
  {
   "cell_type": "code",
   "execution_count": 7,
   "id": "ef358173",
   "metadata": {
    "execution": {
     "iopub.execute_input": "2023-11-01T00:42:08.960144Z",
     "iopub.status.busy": "2023-11-01T00:42:08.959409Z",
     "iopub.status.idle": "2023-11-01T00:42:08.967146Z",
     "shell.execute_reply": "2023-11-01T00:42:08.965958Z"
    },
    "papermill": {
     "duration": 0.01721,
     "end_time": "2023-11-01T00:42:08.969582",
     "exception": false,
     "start_time": "2023-11-01T00:42:08.952372",
     "status": "completed"
    },
    "tags": []
   },
   "outputs": [],
   "source": [
    "features_train, features_test, labels_train, labels_test = train_test_split (features, labels, train_size = 0.8, test_size = 0.2, random_state = 42)"
   ]
  },
  {
   "cell_type": "code",
   "execution_count": 8,
   "id": "2d05dc3c",
   "metadata": {
    "execution": {
     "iopub.execute_input": "2023-11-01T00:42:08.983215Z",
     "iopub.status.busy": "2023-11-01T00:42:08.982806Z",
     "iopub.status.idle": "2023-11-01T00:42:09.015965Z",
     "shell.execute_reply": "2023-11-01T00:42:09.014847Z"
    },
    "papermill": {
     "duration": 0.043116,
     "end_time": "2023-11-01T00:42:09.018577",
     "exception": false,
     "start_time": "2023-11-01T00:42:08.975461",
     "status": "completed"
    },
    "tags": []
   },
   "outputs": [
    {
     "data": {
      "text/html": [
       "<style>#sk-container-id-1 {color: black;background-color: white;}#sk-container-id-1 pre{padding: 0;}#sk-container-id-1 div.sk-toggleable {background-color: white;}#sk-container-id-1 label.sk-toggleable__label {cursor: pointer;display: block;width: 100%;margin-bottom: 0;padding: 0.3em;box-sizing: border-box;text-align: center;}#sk-container-id-1 label.sk-toggleable__label-arrow:before {content: \"▸\";float: left;margin-right: 0.25em;color: #696969;}#sk-container-id-1 label.sk-toggleable__label-arrow:hover:before {color: black;}#sk-container-id-1 div.sk-estimator:hover label.sk-toggleable__label-arrow:before {color: black;}#sk-container-id-1 div.sk-toggleable__content {max-height: 0;max-width: 0;overflow: hidden;text-align: left;background-color: #f0f8ff;}#sk-container-id-1 div.sk-toggleable__content pre {margin: 0.2em;color: black;border-radius: 0.25em;background-color: #f0f8ff;}#sk-container-id-1 input.sk-toggleable__control:checked~div.sk-toggleable__content {max-height: 200px;max-width: 100%;overflow: auto;}#sk-container-id-1 input.sk-toggleable__control:checked~label.sk-toggleable__label-arrow:before {content: \"▾\";}#sk-container-id-1 div.sk-estimator input.sk-toggleable__control:checked~label.sk-toggleable__label {background-color: #d4ebff;}#sk-container-id-1 div.sk-label input.sk-toggleable__control:checked~label.sk-toggleable__label {background-color: #d4ebff;}#sk-container-id-1 input.sk-hidden--visually {border: 0;clip: rect(1px 1px 1px 1px);clip: rect(1px, 1px, 1px, 1px);height: 1px;margin: -1px;overflow: hidden;padding: 0;position: absolute;width: 1px;}#sk-container-id-1 div.sk-estimator {font-family: monospace;background-color: #f0f8ff;border: 1px dotted black;border-radius: 0.25em;box-sizing: border-box;margin-bottom: 0.5em;}#sk-container-id-1 div.sk-estimator:hover {background-color: #d4ebff;}#sk-container-id-1 div.sk-parallel-item::after {content: \"\";width: 100%;border-bottom: 1px solid gray;flex-grow: 1;}#sk-container-id-1 div.sk-label:hover label.sk-toggleable__label {background-color: #d4ebff;}#sk-container-id-1 div.sk-serial::before {content: \"\";position: absolute;border-left: 1px solid gray;box-sizing: border-box;top: 0;bottom: 0;left: 50%;z-index: 0;}#sk-container-id-1 div.sk-serial {display: flex;flex-direction: column;align-items: center;background-color: white;padding-right: 0.2em;padding-left: 0.2em;position: relative;}#sk-container-id-1 div.sk-item {position: relative;z-index: 1;}#sk-container-id-1 div.sk-parallel {display: flex;align-items: stretch;justify-content: center;background-color: white;position: relative;}#sk-container-id-1 div.sk-item::before, #sk-container-id-1 div.sk-parallel-item::before {content: \"\";position: absolute;border-left: 1px solid gray;box-sizing: border-box;top: 0;bottom: 0;left: 50%;z-index: -1;}#sk-container-id-1 div.sk-parallel-item {display: flex;flex-direction: column;z-index: 1;position: relative;background-color: white;}#sk-container-id-1 div.sk-parallel-item:first-child::after {align-self: flex-end;width: 50%;}#sk-container-id-1 div.sk-parallel-item:last-child::after {align-self: flex-start;width: 50%;}#sk-container-id-1 div.sk-parallel-item:only-child::after {width: 0;}#sk-container-id-1 div.sk-dashed-wrapped {border: 1px dashed gray;margin: 0 0.4em 0.5em 0.4em;box-sizing: border-box;padding-bottom: 0.4em;background-color: white;}#sk-container-id-1 div.sk-label label {font-family: monospace;font-weight: bold;display: inline-block;line-height: 1.2em;}#sk-container-id-1 div.sk-label-container {text-align: center;}#sk-container-id-1 div.sk-container {/* jupyter's `normalize.less` sets `[hidden] { display: none; }` but bootstrap.min.css set `[hidden] { display: none !important; }` so we also need the `!important` here to be able to override the default hidden behavior on the sphinx rendered scikit-learn.org. See: https://github.com/scikit-learn/scikit-learn/issues/21755 */display: inline-block !important;position: relative;}#sk-container-id-1 div.sk-text-repr-fallback {display: none;}</style><div id=\"sk-container-id-1\" class=\"sk-top-container\"><div class=\"sk-text-repr-fallback\"><pre>LinearRegression()</pre><b>In a Jupyter environment, please rerun this cell to show the HTML representation or trust the notebook. <br />On GitHub, the HTML representation is unable to render, please try loading this page with nbviewer.org.</b></div><div class=\"sk-container\" hidden><div class=\"sk-item\"><div class=\"sk-estimator sk-toggleable\"><input class=\"sk-toggleable__control sk-hidden--visually\" id=\"sk-estimator-id-1\" type=\"checkbox\" checked><label for=\"sk-estimator-id-1\" class=\"sk-toggleable__label sk-toggleable__label-arrow\">LinearRegression</label><div class=\"sk-toggleable__content\"><pre>LinearRegression()</pre></div></div></div></div></div>"
      ],
      "text/plain": [
       "LinearRegression()"
      ]
     },
     "execution_count": 8,
     "metadata": {},
     "output_type": "execute_result"
    }
   ],
   "source": [
    "model = LinearRegression()\n",
    "model.fit(features_train, labels_train)"
   ]
  },
  {
   "cell_type": "code",
   "execution_count": 9,
   "id": "26bb127d",
   "metadata": {
    "execution": {
     "iopub.execute_input": "2023-11-01T00:42:09.033088Z",
     "iopub.status.busy": "2023-11-01T00:42:09.032311Z",
     "iopub.status.idle": "2023-11-01T00:42:09.038857Z",
     "shell.execute_reply": "2023-11-01T00:42:09.038077Z"
    },
    "papermill": {
     "duration": 0.016432,
     "end_time": "2023-11-01T00:42:09.041177",
     "exception": false,
     "start_time": "2023-11-01T00:42:09.024745",
     "status": "completed"
    },
    "tags": []
   },
   "outputs": [],
   "source": [
    "predictions = model.predict(features_test)"
   ]
  },
  {
   "cell_type": "code",
   "execution_count": 10,
   "id": "c05d5ae7",
   "metadata": {
    "execution": {
     "iopub.execute_input": "2023-11-01T00:42:09.055231Z",
     "iopub.status.busy": "2023-11-01T00:42:09.054825Z",
     "iopub.status.idle": "2023-11-01T00:42:09.360913Z",
     "shell.execute_reply": "2023-11-01T00:42:09.359805Z"
    },
    "papermill": {
     "duration": 0.316121,
     "end_time": "2023-11-01T00:42:09.363447",
     "exception": false,
     "start_time": "2023-11-01T00:42:09.047326",
     "status": "completed"
    },
    "tags": []
   },
   "outputs": [
    {
     "data": {
      "text/plain": [
       "Text(0, 0.5, 'Predicted Location')"
      ]
     },
     "execution_count": 10,
     "metadata": {},
     "output_type": "execute_result"
    },
    {
     "data": {
      "image/png": "[encoded data removed]",
      "text/plain": [
       "<Figure size 640x480 with 1 Axes>"
      ]
     },
     "metadata": {},
     "output_type": "display_data"
    }
   ],
   "source": [
    "plt.scatter(labels_test,predictions) \n",
    "\n",
    "plt.xlabel(\"Actual Location\")\n",
    "plt.ylabel(\"Predicted Location\")"
   ]
  },
  {
   "cell_type": "code",
   "execution_count": 11,
   "id": "1939dfec",
   "metadata": {
    "execution": {
     "iopub.execute_input": "2023-11-01T00:42:09.379933Z",
     "iopub.status.busy": "2023-11-01T00:42:09.379192Z",
     "iopub.status.idle": "2023-11-01T00:42:09.387828Z",
     "shell.execute_reply": "2023-11-01T00:42:09.386694Z"
    },
    "papermill": {
     "duration": 0.020737,
     "end_time": "2023-11-01T00:42:09.391211",
     "exception": false,
     "start_time": "2023-11-01T00:42:09.370474",
     "status": "completed"
    },
    "tags": []
   },
   "outputs": [
    {
     "name": "stdout",
     "output_type": "stream",
     "text": [
      "0.9085080734983746\n"
     ]
    }
   ],
   "source": [
    "print(model.score(features_test, labels_test))"
   ]
  }
 ],
 "metadata": {
  "kernelspec": {
   "display_name": "Python 3",
   "language": "python",
   "name": "python3"
  },
  "language_info": {
   "codemirror_mode": {
    "name": "ipython",
    "version": 3
   },
   "file_extension": ".py",
   "mimetype": "text/x-python",
   "name": "python",
   "nbconvert_exporter": "python",
   "pygments_lexer": "ipython3",
   "version": "3.10.12"
  },
  "papermill": {
   "default_parameters": {},
   "duration": 7.159036,
   "end_time": "2023-11-01T00:42:10.020303",
   "environment_variables": {},
   "exception": null,
   "input_path": "__notebook__.ipynb",
   "output_path": "__notebook__.ipynb",
   "parameters": {},
   "start_time": "2023-11-01T00:42:02.861267",
   "version": "2.4.0"
  }
 },
 "nbformat": 4,
 "nbformat_minor": 5
}
